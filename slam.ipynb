{
 "cells": [
  {
   "cell_type": "markdown",
   "metadata": {},
   "source": [
    "### Load KITTI Dataset in Python"
   ]
  },
  {
   "cell_type": "code",
   "execution_count": 4,
   "metadata": {},
   "outputs": [
    {
     "name": "stdout",
     "output_type": "stream",
     "text": [
      "Loaded 4541 frames from sequence 00\n"
     ]
    }
   ],
   "source": [
    "import pykitti\n",
    "\n",
    "# Correct base directory (should point to \"dataset/\")\n",
    "basedir = \"/home/deepak-bhagat/Downloads/data_odometry_velodyne/dataset/\"\n",
    "\n",
    "# Only specify sequence number\n",
    "sequence = \"00\"  # Test sequence 00\n",
    "\n",
    "# Load KITTI odometry dataset\n",
    "dataset = pykitti.odometry(basedir, sequence)\n",
    "\n",
    "# Check the number of frames\n",
    "print(f\"Loaded {len(dataset.timestamps)} frames from sequence {sequence}\")\n"
   ]
  },
  {
   "cell_type": "markdown",
   "metadata": {},
   "source": [
    "### Visualize LiDAR Data"
   ]
  },
  {
   "cell_type": "code",
   "execution_count": 16,
   "metadata": {},
   "outputs": [],
   "source": [
    "import open3d as o3d\n",
    "import numpy as np\n",
    "\n",
    "# Load the first LiDAR frame (frame 0)\n",
    "scan = dataset.get_velo(0)\n",
    "\n",
    "# Convert to Open3D point cloud\n",
    "pcd = o3d.geometry.PointCloud()\n",
    "pcd.points = o3d.utility.Vector3dVector(scan[:, :3])  # Use x, y, z coordinates\n",
    "\n",
    "# Visualize the LiDAR point cloud\n",
    "o3d.visualization.draw_geometries([pcd])\n"
   ]
  },
  {
   "cell_type": "markdown",
   "metadata": {},
   "source": [
    "### Implement Basic ICP SLAM"
   ]
  },
  {
   "cell_type": "code",
   "execution_count": 17,
   "metadata": {},
   "outputs": [
    {
     "name": "stdout",
     "output_type": "stream",
     "text": [
      "Estimated Transformation:\n",
      " [[ 9.99994810e-01  3.19623300e-03  4.04326435e-04  3.53577197e-02]\n",
      " [-3.19674633e-03  9.99994077e-01  1.27538751e-03  5.84922227e-02]\n",
      " [-4.00247605e-04 -1.27667342e-03  9.99999105e-01  1.34619106e-03]\n",
      " [ 0.00000000e+00  0.00000000e+00  0.00000000e+00  1.00000000e+00]]\n"
     ]
    }
   ],
   "source": [
    "def icp_slam(source, target):\n",
    "    \"\"\"Applies Iterative Closest Point (ICP) for SLAM\"\"\"\n",
    "    icp = o3d.pipelines.registration.registration_icp(\n",
    "        source, target, 0.2, np.eye(4),\n",
    "        o3d.pipelines.registration.TransformationEstimationPointToPoint())\n",
    "    return icp.transformation\n",
    "\n",
    "# Load two consecutive LiDAR frames\n",
    "pcd1 = o3d.geometry.PointCloud()\n",
    "pcd1.points = o3d.utility.Vector3dVector(dataset.get_velo(0)[:, :3])\n",
    "\n",
    "pcd2 = o3d.geometry.PointCloud()\n",
    "pcd2.points = o3d.utility.Vector3dVector(dataset.get_velo(1)[:, :3])\n",
    "\n",
    "# Compute transformation using ICP\n",
    "transformation = icp_slam(pcd1, pcd2)\n",
    "print(\"Estimated Transformation:\\n\", transformation)\n"
   ]
  },
  {
   "cell_type": "markdown",
   "metadata": {},
   "source": [
    "### Implement A Path Planning*"
   ]
  },
  {
   "cell_type": "code",
   "execution_count": 18,
   "metadata": {},
   "outputs": [
    {
     "name": "stdout",
     "output_type": "stream",
     "text": [
      "Path found: {(0, 0): None, (0, 1): (0, 0), (1, 0): (0, 0), (0, 2): (0, 1), (1, 1): (0, 1), (2, 0): (1, 0), (0, 3): (0, 2), (1, 2): (0, 2), (2, 1): (1, 1), (3, 0): (2, 0), (0, 4): (0, 3), (1, 3): (0, 3), (2, 2): (1, 2), (3, 1): (2, 1), (4, 0): (3, 0), (0, 5): (0, 4), (1, 4): (0, 4), (2, 3): (1, 3), (3, 2): (2, 2), (4, 1): (3, 1), (5, 0): (4, 0), (0, 6): (0, 5), (1, 5): (0, 5), (2, 4): (1, 4), (3, 3): (2, 3), (4, 2): (3, 2), (5, 1): (4, 1), (6, 0): (5, 0), (0, 7): (0, 6), (1, 6): (0, 6), (2, 5): (1, 5), (3, 4): (2, 4), (4, 3): (3, 3), (5, 2): (4, 2), (6, 1): (5, 1), (7, 0): (6, 0), (0, 8): (0, 7), (1, 7): (0, 7), (2, 6): (1, 6), (3, 5): (2, 5), (4, 4): (3, 4), (5, 3): (4, 3), (6, 2): (5, 2), (7, 1): (6, 1), (8, 0): (7, 0), (0, 9): (0, 8), (1, 8): (0, 8), (2, 7): (1, 7), (3, 6): (2, 6), (4, 5): (3, 5), (5, 4): (4, 4), (6, 3): (5, 3), (7, 2): (6, 2), (8, 1): (7, 1), (9, 0): (8, 0), (1, 9): (0, 9), (2, 8): (1, 8), (3, 7): (2, 7), (4, 6): (3, 6), (5, 5): (4, 5), (6, 4): (5, 4), (7, 3): (6, 3), (8, 2): (7, 2), (9, 1): (8, 1), (2, 9): (1, 9), (3, 8): (2, 8), (4, 7): (3, 7), (5, 6): (4, 6), (6, 5): (5, 5), (7, 4): (6, 4), (8, 3): (7, 3), (9, 2): (8, 2), (3, 9): (2, 9), (4, 8): (3, 8), (5, 7): (4, 7), (6, 6): (5, 6), (7, 5): (6, 5), (8, 4): (7, 4), (9, 3): (8, 3), (4, 9): (3, 9), (5, 8): (4, 8), (6, 7): (5, 7), (7, 6): (6, 6), (8, 5): (7, 5), (9, 4): (8, 4), (5, 9): (4, 9), (6, 8): (5, 8), (7, 7): (6, 7), (8, 6): (7, 6), (9, 5): (8, 5), (6, 9): (5, 9), (7, 8): (6, 8), (8, 7): (7, 7), (9, 6): (8, 6), (7, 9): (6, 9), (8, 8): (7, 8), (9, 7): (8, 7), (8, 9): (7, 9), (9, 8): (8, 8), (9, 9): (8, 9)}\n"
     ]
    }
   ],
   "source": [
    "import heapq\n",
    "\n",
    "def astar(grid, start, goal):\n",
    "    \"\"\"A* Algorithm for Path Planning\"\"\"\n",
    "    rows, cols = len(grid), len(grid[0])\n",
    "    heap = [(0, start)]\n",
    "    came_from = {start: None}\n",
    "    cost_so_far = {start: 0}\n",
    "\n",
    "    while heap:\n",
    "        _, current = heapq.heappop(heap)\n",
    "        if current == goal:\n",
    "            break\n",
    "        for dx, dy in [(0,1), (1,0), (0,-1), (-1,0)]:\n",
    "            next_node = (current[0] + dx, current[1] + dy)\n",
    "            if 0 <= next_node[0] < rows and 0 <= next_node[1] < cols:\n",
    "                new_cost = cost_so_far[current] + 1\n",
    "                if next_node not in cost_so_far or new_cost < cost_so_far[next_node]:\n",
    "                    cost_so_far[next_node] = new_cost\n",
    "                    priority = new_cost\n",
    "                    heapq.heappush(heap, (priority, next_node))\n",
    "                    came_from[next_node] = current\n",
    "    return came_from\n",
    "\n",
    "# Example grid-based path planning\n",
    "grid = [[0]*10 for _ in range(10)]  # 10x10 empty grid\n",
    "start, goal = (0, 0), (9, 9)\n",
    "path = astar(grid, start, goal)\n",
    "print(\"Path found:\", path)\n"
   ]
  },
  {
   "cell_type": "markdown",
   "metadata": {},
   "source": [
    "### Visualize and Evaluate Results\n"
   ]
  },
  {
   "cell_type": "code",
   "execution_count": 19,
   "metadata": {},
   "outputs": [
    {
     "data": {
      "image/png": "[encoded data removed]",
      "text/plain": [
       "<Figure size 640x480 with 1 Axes>"
      ]
     },
     "metadata": {},
     "output_type": "display_data"
    }
   ],
   "source": [
    "import matplotlib.pyplot as plt\n",
    "\n",
    "trajectory = np.array([[0, 0], [1, 2], [2, 3]])  # Example trajectory\n",
    "plt.plot(trajectory[:, 0], trajectory[:, 1], marker=\"o\", label=\"SLAM Path\")\n",
    "plt.legend()\n",
    "plt.show()\n"
   ]
  }
 ],
 "metadata": {
  "kernelspec": {
   "display_name": ".venv",
   "language": "python",
   "name": "python3"
  },
  "language_info": {
   "codemirror_mode": {
    "name": "ipython",
    "version": 3
   },
   "file_extension": ".py",
   "mimetype": "text/x-python",
   "name": "python",
   "nbconvert_exporter": "python",
   "pygments_lexer": "ipython3",
   "version": "3.12.3"
  }
 },
 "nbformat": 4,
 "nbformat_minor": 2
}
